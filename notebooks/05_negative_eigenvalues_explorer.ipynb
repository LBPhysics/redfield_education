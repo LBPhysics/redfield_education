{
 "cells": [
  {
   "cell_type": "markdown",
   "id": "ce9cb06f",
   "metadata": {},
   "source": [
    "# Positivity Violations Explorer\n",
    "Scan coupling and temperature to detect where Bloch-Redfield yields negative eigenvalues (non-CP dynamics)."
   ]
  },
  {
   "cell_type": "code",
   "execution_count": null,
   "id": "c4e7aa8c",
   "metadata": {},
   "outputs": [],
   "source": [
    "import numpy as np\n",
    "\n",
    "from qutip import basis, sigmax, sigmaz, brmesolve, OhmicEnvironment\n",
    "\n",
    "from diagnostics import trajectory_min_eigs\n",
    "\n",
    "import matplotlib.pyplot as plt\n",
    "\n",
    "w0=1.0\n",
    "\n",
    "H=0.5*w0*sigmaz()\n",
    "\n",
    "A=sigmax()  # transverse coupling for relaxation + dephasing\n",
    "\n",
    "alphas=np.linspace(0.005,0.2,20)\n",
    "\n",
    "temps=np.linspace(0.05,2.0,25)\n",
    "\n",
    "tlist=np.linspace(0,5,150)\n",
    "\n",
    "res_grid=np.zeros((len(alphas),len(temps)))\n",
    "\n",
    "psi0=basis(2,1)\n",
    "\n",
    "for ia,a in enumerate(alphas):\n",
    "\n",
    "    for it,T in enumerate(temps):\n",
    "\n",
    "        bath=OhmicEnvironment(T=T, wc=10.0, alpha=a, s=1.0)\n",
    "\n",
    "        sol=brmesolve(H, psi0, tlist, a_ops=[[A,bath.power_spectrum]])\n",
    "\n",
    "        min_eigs=trajectory_min_eigs(sol.states)\n",
    "\n",
    "        res_grid[ia,it]=min(min_eigs)\n",
    "\n",
    "plt.figure(figsize=(6,4))\n",
    "\n",
    "im=plt.imshow(res_grid,origin='lower',aspect='auto',extent=[temps[0],temps[-1],alphas[0],alphas[-1]],cmap='coolwarm')\n",
    "\n",
    "plt.colorbar(im,label=r'$\\min_t \\lambda_{min}(t)$')\n",
    "\n",
    "plt.contour(temps, alphas, res_grid, levels=[0], colors='k', linewidths=1) \n",
    "\n",
    "plt.xlabel('Temperature T')\n",
    "\n",
    "plt.ylabel('Coupling alpha')\n",
    "\n",
    "plt.title('Positivity landscape (BR)')\n",
    "\n",
    "plt.show()"
   ]
  }
 ],
 "metadata": {
  "language_info": {
   "name": "python"
  }
 },
 "nbformat": 4,
 "nbformat_minor": 5
}

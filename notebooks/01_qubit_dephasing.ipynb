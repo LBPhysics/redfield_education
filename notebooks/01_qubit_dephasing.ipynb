{
 "cells": [
  {
   "cell_type": "markdown",
   "id": "c60b04de",
   "metadata": {},
   "source": [
    "# Qubit Pure Dephasing: Bloch-Redfield vs Lindblad\n",
    "We study a qubit with Hamiltonian $H = \frac{mega_0}{2} igma_z$ coupled to a bosonic bath inducing pure dephasing.\n",
    "We compare QuTiP's `brmesolve` (full Redfield) and `mesolve` with a Lindblad dephasing operator. We monitor density matrix eigenvalues to detect CP violations (if any)."
   ]
  },
  {
   "cell_type": "code",
   "execution_count": null,
   "id": "3e28d653",
   "metadata": {},
   "outputs": [],
   "source": [
    "import numpy as np\n",
    "import matplotlib.pyplot as plt\n",
    "from qutip import basis, sigmaz, sigmax, Qobj, brmesolve, mesolve, BosonicEnvironment, tensor\n",
    "from qutip import OhmicEnvironment\n",
    "from diagnostics import density_matrix_positivity, trajectory_min_eigs\n",
    "from plotting import style, plot_min_eig\n",
    "style()\n",
    "w0 = 1.0  # qubit splitting\n",
    "H = 0.5 * w0 * sigmaz()\n",
    "# pure dephasing coupling operator A = sigma_z (commutes with H)\n",
    "A = sigmaz()\n",
    "# Ohmic bath providing S(0) > 0 giving dephasing rate.\n",
    "bath = OhmicEnvironment(T=0.5, wc=10.0, alpha=0.05, s=1.0)\n",
    "psi0 = basis(2,0)\n",
    "tlist = np.linspace(0,10,300)\n",
    "# Bloch-Redfield evolution\n",
    "res_br = brmesolve(H, psi0, tlist, a_ops=[[A, bath.power_spectrum]], e_ops=[])\n",
    "# Lindblad model with rate gamma_phi = S(0)\n",
    "gamma_phi = bath.power_spectrum(0)\n",
    "res_me = mesolve(H, psi0, tlist, c_ops=[np.sqrt(gamma_phi/2)*A], e_ops=[])\n",
    "min_eigs_br = trajectory_min_eigs(res_br.states)\n",
    "min_eigs_me = trajectory_min_eigs(res_me.states)\n",
    "plt.figure(figsize=(6,3))\n",
    "plt.plot(tlist, min_eigs_br, label='BR')\n",
    "plt.plot(tlist, min_eigs_me, label='ME', ls='--')\n",
    "plt.axhline(0,color='k',lw=1)\n",
    "plt.ylabel(r'$\\lambda_{min}$')\n",
    "plt.xlabel('t')\n",
    "plt.legend(frameon=False)\n",
    "plt.title('Minimal eigenvalue (positivity check)')\n",
    "plt.show()"
   ]
  }
 ],
 "metadata": {
  "language_info": {
   "name": "python"
  }
 },
 "nbformat": 4,
 "nbformat_minor": 5
}

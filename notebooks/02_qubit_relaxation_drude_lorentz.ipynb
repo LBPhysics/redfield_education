{
 "cells": [
  {
   "cell_type": "markdown",
   "id": "43952b02",
   "metadata": {},
   "source": [
    "# Qubit Relaxation with Drude-Lorentz Bath\n",
    "We model energy relaxation of a qubit coupled transversely ($A=\\sigma_x$) to a Drude-Lorentz bath."
   ]
  },
  {
   "cell_type": "code",
   "execution_count": null,
   "id": "ec2e0cf4",
   "metadata": {},
   "outputs": [],
   "source": [
    "import numpy as np\n",
    "\n",
    "import matplotlib.pyplot as plt\n",
    "\n",
    "from qutip import basis, sigmaz, sigmax, brmesolve, mesolve, DrudeLorentzEnvironment\n",
    "\n",
    "from diagnostics import trajectory_min_eigs\n",
    "\n",
    "from plotting import style, plot_min_eig\n",
    "\n",
    "style()\n",
    "\n",
    "w0=1.0\n",
    "\n",
    "H=0.5*w0*sigmaz()\n",
    "\n",
    "A=sigmax()\n",
    "\n",
    "bath=DrudeLorentzEnvironment(T=0.5, lam=0.2, gamma=5.0, Nk=2)\n",
    "\n",
    "psi0=basis(2,1)\n",
    "\n",
    "tlist=np.linspace(0,10,300)\n",
    "\n",
    "sol_br=brmesolve(H, psi0, tlist, a_ops=[[A,bath.power_spectrum]])\n",
    "\n",
    "gamma_em=bath.power_spectrum(w0)\n",
    "\n",
    "n_th = 1/(np.exp(w0/bath.T)-1)\n",
    "\n",
    "gamma_abs = bath.power_spectrum(-w0)\n",
    "\n",
    "sol_me=mesolve(H, psi0, tlist, c_ops=[np.sqrt(gamma_em)*basis(2,0)*basis(2,1).dag(), np.sqrt(gamma_abs)*basis(2,1)*basis(2,0).dag()])\n",
    "\n",
    "min_br=trajectory_min_eigs(sol_br.states)\n",
    "\n",
    "min_me=trajectory_min_eigs(sol_me.states)\n",
    "\n",
    "plt.figure(figsize=(6,3))\n",
    "\n",
    "plt.plot(tlist,min_br,label='BR')\n",
    "\n",
    "plt.plot(tlist,min_me,label='ME',ls='--')\n",
    "\n",
    "plt.axhline(0,color='k',lw=1)\n",
    "\n",
    "plt.xlabel('t')\n",
    "\n",
    "plt.ylabel(r'$\\lambda_{min}$')\n",
    "\n",
    "plt.legend(frameon=False)\n",
    "\n",
    "plt.title('Positivity check: relaxation qubit')\n",
    "\n",
    "plt.show()"
   ]
  }
 ],
 "metadata": {
  "language_info": {
   "name": "python"
  }
 },
 "nbformat": 4,
 "nbformat_minor": 5
}

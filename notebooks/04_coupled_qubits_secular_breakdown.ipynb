{
 "cells": [
  {
   "cell_type": "markdown",
   "id": "7a088df3",
   "metadata": {},
   "source": [
    "# Coupled Qubits: Secular Approximation Breakdown\n",
    "Two qubits with exchange coupling J; when splittings become quasi-degenerate, Redfield secularization can fail."
   ]
  },
  {
   "cell_type": "code",
   "execution_count": null,
   "id": "43d5462c",
   "metadata": {},
   "outputs": [],
   "source": [
    "import numpy as np\n",
    "\n",
    "import matplotlib.pyplot as plt\n",
    "\n",
    "from qutip import basis, tensor, sigmaz, sigmax, qeye, brmesolve, OhmicEnvironment\n",
    "\n",
    "from diagnostics import trajectory_min_eigs\n",
    "\n",
    "from plotting import style\n",
    "\n",
    "style()\n",
    "\n",
    "w1=1.0; w2=1.05\n",
    "\n",
    "J=0.04  # comparable to decay -> near secular edge\n",
    "\n",
    "sz=sigmaz(); sx=sigmax(); I=qeye(2)\n",
    "\n",
    "H0=0.5*w1*tensor(sz,I)+0.5*w2*tensor(I,sz)+J*(tensor(sx,sx)+tensor(sz,sz)*0*0)  # simple XX coupling\n",
    "\n",
    "A1=tensor(sz,I)\n",
    "\n",
    "A2=tensor(I,sz)\n",
    "\n",
    "bath=OhmicEnvironment(T=0.4, wc=10.0, alpha=0.04, s=1.0)\n",
    "\n",
    "psi0=tensor(basis(2,1), basis(2,0))\n",
    "\n",
    "tlist=np.linspace(0,15,400)\n",
    "\n",
    "a_ops=[[A1,bath.power_spectrum],[A2,bath.power_spectrum]]\n",
    "\n",
    "sol=brmesolve(H0, psi0, tlist, a_ops=a_ops)\n",
    "\n",
    "min_eigs=trajectory_min_eigs(sol.states)\n",
    "\n",
    "plt.figure(figsize=(6,3))\n",
    "\n",
    "plt.plot(tlist,min_eigs)\n",
    "\n",
    "plt.axhline(0,color='k',lw=1)\n",
    "\n",
    "plt.xlabel('t')\n",
    "\n",
    "plt.ylabel(r'$\\lambda_{min}$')\n",
    "\n",
    "plt.title('Coupled qubits: minimal eigenvalue (non-secular Redfield)')\n",
    "\n",
    "plt.show()"
   ]
  }
 ],
 "metadata": {
  "language_info": {
   "name": "python"
  }
 },
 "nbformat": 4,
 "nbformat_minor": 5
}
